{
  "nbformat": 4,
  "nbformat_minor": 0,
  "metadata": {
    "anaconda-cloud": {},
    "kernelspec": {
      "display_name": "Python 3",
      "language": "python",
      "name": "python2"
    },
    "language_info": {
      "codemirror_mode": {
        "name": "ipython",
        "version": 2
      },
      "file_extension": ".py",
      "mimetype": "text/x-python",
      "name": "python",
      "nbconvert_exporter": "python",
      "pygments_lexer": "ipython2",
      "version": "2.7.15"
    },
    "colab": {
      "name": "01.02-The-Basics-Of-NumPy-Arrays.ipynb",
      "provenance": [],
      "include_colab_link": true
    }
  },
  "cells": [
    {
      "cell_type": "markdown",
      "metadata": {
        "id": "view-in-github",
        "colab_type": "text"
      },
      "source": [
        "<a href=\"https://colab.research.google.com/github/htapiagroup/introduccion-a-numpy-ManuelD22/blob/master/notebooks/01.02-The-Basics-Of-NumPy-Arrays.ipynb\" target=\"_parent\"><img src=\"https://colab.research.google.com/assets/colab-badge.svg\" alt=\"Open In Colab\"/></a>"
      ]
    },
    {
      "cell_type": "markdown",
      "metadata": {
        "id": "Zn-k9n6hazKA",
        "colab_type": "text"
      },
      "source": [
        "<!--BOOK_INFORMATION-->\n",
        "<img align=\"left\" style=\"padding-right:10px;\" src=\"https://github.com/ManuelD22/TallerPythonIntroCienciaDatos/blob/master/notebooks/figures/header_small.png?raw=1\">\n",
        "\n",
        "*Esta libreta contiene material del Taller de Python que se lleva a cabo como parte del \n",
        "evento [Data Challenge Industrial 4.0](www.lania.mx/dci). El contenido ha sido adaptado \n",
        "por HTM y GED a partir del libro [Python Data Science Handbook](http://shop.oreilly.com/product/0636920034919.do) \n",
        "de Jake VanderPlas y se mantiene la licencia sobre el texto, \n",
        "[CC-BY-NC-ND license](https://creativecommons.org/licenses/by-nc-nd/3.0/us/legalcode), \n",
        "y sobre el codigo [MIT license](https://opensource.org/licenses/MIT).*"
      ]
    },
    {
      "cell_type": "markdown",
      "metadata": {
        "id": "uHlMPPUCazKE",
        "colab_type": "text"
      },
      "source": [
        "<!--NAVIGATION-->\n",
        "< [Tipos de Datos en Python](01.01-Understanding-Data-Types.ipynb) | [Contenido](Index.ipynb) | [Cálculos con Arrays 1. Ufuncs](01.03-Computation-on-arrays-ufuncs.ipynb) >\n",
        "\n",
        "<a href=\"https://colab.research.google.com/github/htapia/TallerPythonIntroCienciaDatos/blob/master/notebooks/01.02-The-Basics-Of-NumPy-Arrays.ipynb\"><img align=\"left\" src=\"https://colab.research.google.com/assets/colab-badge.svg\" alt=\"Open in Colab\" title=\"Open and Execute in Google Colaboratory\"></a>\n"
      ]
    },
    {
      "cell_type": "markdown",
      "metadata": {
        "id": "HW7pZ2-QazKF",
        "colab_type": "text"
      },
      "source": [
        "# Basicos de NumPy: arreglos"
      ]
    },
    {
      "cell_type": "markdown",
      "metadata": {
        "id": "RDdHDlRXazKH",
        "colab_type": "text"
      },
      "source": [
        "Categorias de manipulaciones básicas de arreglos:\n",
        "\n",
        "- *Atributos de arrays*\n",
        "- *Indexado de arrays*\n",
        "- *Rebanadas de arrays*\n",
        "- *Reformado de arrays*\n",
        "- *Union y separación de arrays*"
      ]
    },
    {
      "cell_type": "markdown",
      "metadata": {
        "id": "i9dAHjieazKI",
        "colab_type": "text"
      },
      "source": [
        "## Atributos de Arrays"
      ]
    },
    {
      "cell_type": "code",
      "metadata": {
        "id": "M7wh8bR4azKJ",
        "colab_type": "code",
        "colab": {}
      },
      "source": [
        "import numpy as np\n",
        "np.random.seed(0)  # seed for reproducibility\n",
        "\n",
        "x1 = np.random.randint(10, size=6)  # One-dimensional array     # arreglo unidimensional\n",
        "x2 = np.random.randint(10, size=(3, 4))  # Two-dimensional array      # arreglo bidimensional\n",
        "x3 = np.random.randint(10, size=(3, 4, 5))  # Three-dimensional array     # arreglo tridimensional"
      ],
      "execution_count": 0,
      "outputs": []
    },
    {
      "cell_type": "code",
      "metadata": {
        "id": "6WLHlM1KazKQ",
        "colab_type": "code",
        "colab": {
          "base_uri": "https://localhost:8080/",
          "height": 68
        },
        "outputId": "359df9d1-b6d3-4335-eeb2-04a1a885962a"
      },
      "source": [
        "print(\"x3 ndim: \", x3.ndim)     # número de dimensiones del arreglo\n",
        "print(\"x3 shape:\", x3.shape)      # forma del arreglo (número de elementos para cada dimensión)\n",
        "print(\"x3 size: \", x3.size)     # número de elementos del arreglo"
      ],
      "execution_count": 3,
      "outputs": [
        {
          "output_type": "stream",
          "text": [
            "('x3 ndim: ', 3)\n",
            "('x3 shape:', (3, 4, 5))\n",
            "('x3 size: ', 60)\n"
          ],
          "name": "stdout"
        }
      ]
    },
    {
      "cell_type": "code",
      "metadata": {
        "id": "ZKSug5JfazKZ",
        "colab_type": "code",
        "colab": {
          "base_uri": "https://localhost:8080/",
          "height": 34
        },
        "outputId": "7fade39d-1a92-4f28-bc52-af230a050ad9"
      },
      "source": [
        "print(\"dtype:\", x3.dtype)"
      ],
      "execution_count": 4,
      "outputs": [
        {
          "output_type": "stream",
          "text": [
            "('dtype:', dtype('int64'))\n"
          ],
          "name": "stdout"
        }
      ]
    },
    {
      "cell_type": "code",
      "metadata": {
        "id": "GKvLwbh_azKd",
        "colab_type": "code",
        "colab": {
          "base_uri": "https://localhost:8080/",
          "height": 51
        },
        "outputId": "a7b67ef8-6b31-4008-bf5f-aa1235c51cd2"
      },
      "source": [
        "print(\"itemsize:\", x3.itemsize, \"bytes\")\n",
        "print(\"nbytes:\", x3.nbytes, \"bytes\")"
      ],
      "execution_count": 5,
      "outputs": [
        {
          "output_type": "stream",
          "text": [
            "('itemsize:', 8, 'bytes')\n",
            "('nbytes:', 480, 'bytes')\n"
          ],
          "name": "stdout"
        }
      ]
    },
    {
      "cell_type": "markdown",
      "metadata": {
        "id": "CJ1kWDXpazKj",
        "colab_type": "text"
      },
      "source": [
        "## Indexado de Arrays : Acceso a elementos individuales"
      ]
    },
    {
      "cell_type": "code",
      "metadata": {
        "id": "UQ9-XygaazKk",
        "colab_type": "code",
        "colab": {
          "base_uri": "https://localhost:8080/",
          "height": 34
        },
        "outputId": "766c1c99-8795-4b31-ac1b-653432c2841b"
      },
      "source": [
        "x1"
      ],
      "execution_count": 6,
      "outputs": [
        {
          "output_type": "execute_result",
          "data": {
            "text/plain": [
              "array([5, 0, 3, 3, 7, 9])"
            ]
          },
          "metadata": {
            "tags": []
          },
          "execution_count": 6
        }
      ]
    },
    {
      "cell_type": "code",
      "metadata": {
        "id": "GjdmypSZazKq",
        "colab_type": "code",
        "colab": {
          "base_uri": "https://localhost:8080/",
          "height": 34
        },
        "outputId": "61a3c593-8d4a-48e2-aeb2-21c4acecb8c9"
      },
      "source": [
        "x1[0]     # elemento del arreglo de izquierda a derecha (empieza con el elemento cero)"
      ],
      "execution_count": 7,
      "outputs": [
        {
          "output_type": "execute_result",
          "data": {
            "text/plain": [
              "5"
            ]
          },
          "metadata": {
            "tags": []
          },
          "execution_count": 7
        }
      ]
    },
    {
      "cell_type": "code",
      "metadata": {
        "id": "DR86nUYCazKt",
        "colab_type": "code",
        "colab": {
          "base_uri": "https://localhost:8080/",
          "height": 34
        },
        "outputId": "4aa6202c-87a8-470b-a450-f0d10854f064"
      },
      "source": [
        "x1[4]"
      ],
      "execution_count": 8,
      "outputs": [
        {
          "output_type": "execute_result",
          "data": {
            "text/plain": [
              "7"
            ]
          },
          "metadata": {
            "tags": []
          },
          "execution_count": 8
        }
      ]
    },
    {
      "cell_type": "code",
      "metadata": {
        "id": "Kx6AGcMpazK0",
        "colab_type": "code",
        "colab": {
          "base_uri": "https://localhost:8080/",
          "height": 34
        },
        "outputId": "593af236-7785-4dbe-e9c0-20e3ef52876c"
      },
      "source": [
        "x1[-1]      # elemento del arreglo de derecha a izquierda "
      ],
      "execution_count": 9,
      "outputs": [
        {
          "output_type": "execute_result",
          "data": {
            "text/plain": [
              "9"
            ]
          },
          "metadata": {
            "tags": []
          },
          "execution_count": 9
        }
      ]
    },
    {
      "cell_type": "code",
      "metadata": {
        "id": "kmT5fUQkazK4",
        "colab_type": "code",
        "colab": {
          "base_uri": "https://localhost:8080/",
          "height": 34
        },
        "outputId": "1a5462ed-f173-44e7-930e-7ecbcb36f2a9"
      },
      "source": [
        "x1[-2]"
      ],
      "execution_count": 11,
      "outputs": [
        {
          "output_type": "execute_result",
          "data": {
            "text/plain": [
              "7"
            ]
          },
          "metadata": {
            "tags": []
          },
          "execution_count": 11
        }
      ]
    },
    {
      "cell_type": "code",
      "metadata": {
        "id": "PEaJX6JKb_dV",
        "colab_type": "code",
        "colab": {
          "base_uri": "https://localhost:8080/",
          "height": 34
        },
        "outputId": "62291846-bc95-4424-a953-5e4a69f6a2f6"
      },
      "source": [
        "x1[-5]"
      ],
      "execution_count": 12,
      "outputs": [
        {
          "output_type": "execute_result",
          "data": {
            "text/plain": [
              "0"
            ]
          },
          "metadata": {
            "tags": []
          },
          "execution_count": 12
        }
      ]
    },
    {
      "cell_type": "code",
      "metadata": {
        "id": "ZMlxRPpgazK9",
        "colab_type": "code",
        "colab": {
          "base_uri": "https://localhost:8080/",
          "height": 68
        },
        "outputId": "ed98be15-a17b-4c83-e14b-b8854303bab1"
      },
      "source": [
        "x2"
      ],
      "execution_count": 13,
      "outputs": [
        {
          "output_type": "execute_result",
          "data": {
            "text/plain": [
              "array([[3, 5, 2, 4],\n",
              "       [7, 6, 8, 8],\n",
              "       [1, 6, 7, 7]])"
            ]
          },
          "metadata": {
            "tags": []
          },
          "execution_count": 13
        }
      ]
    },
    {
      "cell_type": "code",
      "metadata": {
        "id": "zfBc2KxwazLC",
        "colab_type": "code",
        "colab": {
          "base_uri": "https://localhost:8080/",
          "height": 34
        },
        "outputId": "0a3a52dc-3274-4986-fc52-ab179e96861d"
      },
      "source": [
        "x2[0, 0]      # elemento del arreglo (x2[renglon (de arriba a abajo), columna (de izquierda a derecha)])"
      ],
      "execution_count": 14,
      "outputs": [
        {
          "output_type": "execute_result",
          "data": {
            "text/plain": [
              "3"
            ]
          },
          "metadata": {
            "tags": []
          },
          "execution_count": 14
        }
      ]
    },
    {
      "cell_type": "code",
      "metadata": {
        "id": "P-XMZDTfazLG",
        "colab_type": "code",
        "colab": {
          "base_uri": "https://localhost:8080/",
          "height": 34
        },
        "outputId": "d872cda7-dac5-4992-981f-c9dad570f9f8"
      },
      "source": [
        "x2[2, 0]"
      ],
      "execution_count": 15,
      "outputs": [
        {
          "output_type": "execute_result",
          "data": {
            "text/plain": [
              "1"
            ]
          },
          "metadata": {
            "tags": []
          },
          "execution_count": 15
        }
      ]
    },
    {
      "cell_type": "code",
      "metadata": {
        "id": "j79b3VwlazLM",
        "colab_type": "code",
        "colab": {
          "base_uri": "https://localhost:8080/",
          "height": 34
        },
        "outputId": "c9132d8e-2149-4302-d4a8-c2837df0d5c0"
      },
      "source": [
        "x2[2, -1]     # elemento del arreglo (x2[renglon (de arriba a abajo), columna (de derecha a izquierda)])"
      ],
      "execution_count": 16,
      "outputs": [
        {
          "output_type": "execute_result",
          "data": {
            "text/plain": [
              "7"
            ]
          },
          "metadata": {
            "tags": []
          },
          "execution_count": 16
        }
      ]
    },
    {
      "cell_type": "code",
      "metadata": {
        "id": "vUyxSFtbazLQ",
        "colab_type": "code",
        "colab": {
          "base_uri": "https://localhost:8080/",
          "height": 68
        },
        "outputId": "9d11b665-bd2d-4ca6-a123-d0c82afe74e7"
      },
      "source": [
        "x2[0, 0] = 12\n",
        "x2"
      ],
      "execution_count": 17,
      "outputs": [
        {
          "output_type": "execute_result",
          "data": {
            "text/plain": [
              "array([[12,  5,  2,  4],\n",
              "       [ 7,  6,  8,  8],\n",
              "       [ 1,  6,  7,  7]])"
            ]
          },
          "metadata": {
            "tags": []
          },
          "execution_count": 17
        }
      ]
    },
    {
      "cell_type": "code",
      "metadata": {
        "id": "28UVwgnxazLY",
        "colab_type": "code",
        "colab": {
          "base_uri": "https://localhost:8080/",
          "height": 34
        },
        "outputId": "e735a8e4-db95-4024-f6c5-87f8e4895e0b"
      },
      "source": [
        "x1[0] = 3.14159  # this will be truncated!\n",
        "x1"
      ],
      "execution_count": 18,
      "outputs": [
        {
          "output_type": "execute_result",
          "data": {
            "text/plain": [
              "array([3, 0, 3, 3, 7, 9])"
            ]
          },
          "metadata": {
            "tags": []
          },
          "execution_count": 18
        }
      ]
    },
    {
      "cell_type": "markdown",
      "metadata": {
        "id": "2SqGqufFazLc",
        "colab_type": "text"
      },
      "source": [
        "## Rebanadas de Arrays: Accesa a partes (subarrays)"
      ]
    },
    {
      "cell_type": "markdown",
      "metadata": {
        "id": "U_Fik-TwazLd",
        "colab_type": "text"
      },
      "source": [
        "``` python\n",
        "x[start:stop:step]\n",
        "```\n"
      ]
    },
    {
      "cell_type": "markdown",
      "metadata": {
        "id": "qfG0Rhc0azLe",
        "colab_type": "text"
      },
      "source": [
        "### Uni-dimensionales"
      ]
    },
    {
      "cell_type": "code",
      "metadata": {
        "id": "owCoqsK8azLf",
        "colab_type": "code",
        "colab": {
          "base_uri": "https://localhost:8080/",
          "height": 34
        },
        "outputId": "ec0694c1-2e3f-42ac-bdfe-dce562370baa"
      },
      "source": [
        "x = np.arange(10)\n",
        "x"
      ],
      "execution_count": 19,
      "outputs": [
        {
          "output_type": "execute_result",
          "data": {
            "text/plain": [
              "array([0, 1, 2, 3, 4, 5, 6, 7, 8, 9])"
            ]
          },
          "metadata": {
            "tags": []
          },
          "execution_count": 19
        }
      ]
    },
    {
      "cell_type": "code",
      "metadata": {
        "id": "LeRbl5i0azLk",
        "colab_type": "code",
        "colab": {
          "base_uri": "https://localhost:8080/",
          "height": 34
        },
        "outputId": "457198f6-a784-4254-a342-0323f09a228f"
      },
      "source": [
        "x[:5]  # first five elements"
      ],
      "execution_count": 20,
      "outputs": [
        {
          "output_type": "execute_result",
          "data": {
            "text/plain": [
              "array([0, 1, 2, 3, 4])"
            ]
          },
          "metadata": {
            "tags": []
          },
          "execution_count": 20
        }
      ]
    },
    {
      "cell_type": "code",
      "metadata": {
        "id": "A6IkN6r1azLn",
        "colab_type": "code",
        "colab": {
          "base_uri": "https://localhost:8080/",
          "height": 34
        },
        "outputId": "f165f8f0-026a-4766-892d-d92134f723a9"
      },
      "source": [
        "x[5:]  # elements after index 5"
      ],
      "execution_count": 21,
      "outputs": [
        {
          "output_type": "execute_result",
          "data": {
            "text/plain": [
              "array([5, 6, 7, 8, 9])"
            ]
          },
          "metadata": {
            "tags": []
          },
          "execution_count": 21
        }
      ]
    },
    {
      "cell_type": "code",
      "metadata": {
        "id": "WBsSu46kazL1",
        "colab_type": "code",
        "colab": {
          "base_uri": "https://localhost:8080/",
          "height": 34
        },
        "outputId": "c9363724-30e8-4b9e-cdc9-06d73bbdab65"
      },
      "source": [
        "x[4:7]  # middle sub-array"
      ],
      "execution_count": 22,
      "outputs": [
        {
          "output_type": "execute_result",
          "data": {
            "text/plain": [
              "array([4, 5, 6])"
            ]
          },
          "metadata": {
            "tags": []
          },
          "execution_count": 22
        }
      ]
    },
    {
      "cell_type": "code",
      "metadata": {
        "id": "VEDJfVBsazL7",
        "colab_type": "code",
        "colab": {
          "base_uri": "https://localhost:8080/",
          "height": 34
        },
        "outputId": "79cb00cc-a106-462b-cc08-7c9b572bd59e"
      },
      "source": [
        "x[::2]  # every other element     # elementos del arreglo de 2 en 2"
      ],
      "execution_count": 23,
      "outputs": [
        {
          "output_type": "execute_result",
          "data": {
            "text/plain": [
              "array([0, 2, 4, 6, 8])"
            ]
          },
          "metadata": {
            "tags": []
          },
          "execution_count": 23
        }
      ]
    },
    {
      "cell_type": "code",
      "metadata": {
        "id": "l9eEciMmazL9",
        "colab_type": "code",
        "colab": {
          "base_uri": "https://localhost:8080/",
          "height": 34
        },
        "outputId": "7fe6ce81-d586-46e1-9ae0-b383b49fe5c9"
      },
      "source": [
        "x[1::2]  # every other element, starting at index 1     #elementos del arreglo de 2 en 2 empezando en 1"
      ],
      "execution_count": 26,
      "outputs": [
        {
          "output_type": "execute_result",
          "data": {
            "text/plain": [
              "array([1, 3, 5, 7, 9])"
            ]
          },
          "metadata": {
            "tags": []
          },
          "execution_count": 26
        }
      ]
    },
    {
      "cell_type": "code",
      "metadata": {
        "id": "jOLPr6DeazMB",
        "colab_type": "code",
        "colab": {
          "base_uri": "https://localhost:8080/",
          "height": 34
        },
        "outputId": "ebab9222-4373-4f8b-eae4-45c53f30d6f1"
      },
      "source": [
        "x[::-1]  # all elements, reversed     "
      ],
      "execution_count": 27,
      "outputs": [
        {
          "output_type": "execute_result",
          "data": {
            "text/plain": [
              "array([9, 8, 7, 6, 5, 4, 3, 2, 1, 0])"
            ]
          },
          "metadata": {
            "tags": []
          },
          "execution_count": 27
        }
      ]
    },
    {
      "cell_type": "code",
      "metadata": {
        "id": "9Kk3bLzZazMG",
        "colab_type": "code",
        "colab": {
          "base_uri": "https://localhost:8080/",
          "height": 34
        },
        "outputId": "8d04fbed-301b-4ff2-fa8e-afc09442213f"
      },
      "source": [
        "x[5::-2]  # reversed every other from index 5"
      ],
      "execution_count": 28,
      "outputs": [
        {
          "output_type": "execute_result",
          "data": {
            "text/plain": [
              "array([5, 3, 1])"
            ]
          },
          "metadata": {
            "tags": []
          },
          "execution_count": 28
        }
      ]
    },
    {
      "cell_type": "markdown",
      "metadata": {
        "id": "WSBaKqVsazMV",
        "colab_type": "text"
      },
      "source": [
        "### Multi-dimensionales\n"
      ]
    },
    {
      "cell_type": "code",
      "metadata": {
        "id": "b7gXJwfMazMZ",
        "colab_type": "code",
        "colab": {
          "base_uri": "https://localhost:8080/",
          "height": 68
        },
        "outputId": "9b982b97-45a0-43a3-ddee-5d156a5721bb"
      },
      "source": [
        "x2"
      ],
      "execution_count": 29,
      "outputs": [
        {
          "output_type": "execute_result",
          "data": {
            "text/plain": [
              "array([[12,  5,  2,  4],\n",
              "       [ 7,  6,  8,  8],\n",
              "       [ 1,  6,  7,  7]])"
            ]
          },
          "metadata": {
            "tags": []
          },
          "execution_count": 29
        }
      ]
    },
    {
      "cell_type": "code",
      "metadata": {
        "id": "olHghEs6azMq",
        "colab_type": "code",
        "colab": {
          "base_uri": "https://localhost:8080/",
          "height": 51
        },
        "outputId": "3e02087c-cbc9-4931-f9d8-adabdbf03384"
      },
      "source": [
        "x2[:2, :3]  # two rows, three columns"
      ],
      "execution_count": 30,
      "outputs": [
        {
          "output_type": "execute_result",
          "data": {
            "text/plain": [
              "array([[12,  5,  2],\n",
              "       [ 7,  6,  8]])"
            ]
          },
          "metadata": {
            "tags": []
          },
          "execution_count": 30
        }
      ]
    },
    {
      "cell_type": "code",
      "metadata": {
        "id": "PsOGD-6jazMw",
        "colab_type": "code",
        "colab": {
          "base_uri": "https://localhost:8080/",
          "height": 68
        },
        "outputId": "7ac65f4b-8546-44fe-a17c-431b65a97a9c"
      },
      "source": [
        "x2[:3, ::2]  # all rows, every other column"
      ],
      "execution_count": 31,
      "outputs": [
        {
          "output_type": "execute_result",
          "data": {
            "text/plain": [
              "array([[12,  2],\n",
              "       [ 7,  8],\n",
              "       [ 1,  7]])"
            ]
          },
          "metadata": {
            "tags": []
          },
          "execution_count": 31
        }
      ]
    },
    {
      "cell_type": "code",
      "metadata": {
        "id": "EtNhqmo-azMy",
        "colab_type": "code",
        "colab": {
          "base_uri": "https://localhost:8080/",
          "height": 68
        },
        "outputId": "80c050ae-81ce-42cb-dc28-73cd2ddf8bf3"
      },
      "source": [
        "x2[::-1, ::-1]      # todos los renglones y columnas invertidos"
      ],
      "execution_count": 32,
      "outputs": [
        {
          "output_type": "execute_result",
          "data": {
            "text/plain": [
              "array([[ 7,  7,  6,  1],\n",
              "       [ 8,  8,  6,  7],\n",
              "       [ 4,  2,  5, 12]])"
            ]
          },
          "metadata": {
            "tags": []
          },
          "execution_count": 32
        }
      ]
    },
    {
      "cell_type": "markdown",
      "metadata": {
        "id": "9vuUs9mbazM5",
        "colab_type": "text"
      },
      "source": [
        "#### Accesando renglones y columnas del array"
      ]
    },
    {
      "cell_type": "code",
      "metadata": {
        "id": "dCDxnSm8azM6",
        "colab_type": "code",
        "colab": {
          "base_uri": "https://localhost:8080/",
          "height": 34
        },
        "outputId": "655011e4-9d64-40ee-f507-a6d9694ddeab"
      },
      "source": [
        "print(x2[:, 0])  # first column of x2"
      ],
      "execution_count": 33,
      "outputs": [
        {
          "output_type": "stream",
          "text": [
            "[12  7  1]\n"
          ],
          "name": "stdout"
        }
      ]
    },
    {
      "cell_type": "code",
      "metadata": {
        "id": "vERDdrUVazM_",
        "colab_type": "code",
        "colab": {
          "base_uri": "https://localhost:8080/",
          "height": 34
        },
        "outputId": "3954f25c-d816-4eca-a280-02cf82f44325"
      },
      "source": [
        "print(x2[0, :])  # first row of x2"
      ],
      "execution_count": 34,
      "outputs": [
        {
          "output_type": "stream",
          "text": [
            "[12  5  2  4]\n"
          ],
          "name": "stdout"
        }
      ]
    },
    {
      "cell_type": "code",
      "metadata": {
        "id": "GUiudnawazNC",
        "colab_type": "code",
        "colab": {
          "base_uri": "https://localhost:8080/",
          "height": 34
        },
        "outputId": "0b87ff40-26ec-4120-baee-fac705d0d62c"
      },
      "source": [
        "print(x2[0])  # equivalent to x2[0, :]"
      ],
      "execution_count": 35,
      "outputs": [
        {
          "output_type": "stream",
          "text": [
            "[12  5  2  4]\n"
          ],
          "name": "stdout"
        }
      ]
    },
    {
      "cell_type": "markdown",
      "metadata": {
        "id": "D7YapEgQazNF",
        "colab_type": "text"
      },
      "source": [
        "### Subarrays son vistas y no copias\n",
        "\n",
        "- Es importante, y práctico, entender que las rebanadas de arrays son *vistas* del trozo y no *copias* del subarray"
      ]
    },
    {
      "cell_type": "code",
      "metadata": {
        "id": "XCdtTDuUazNI",
        "colab_type": "code",
        "colab": {
          "base_uri": "https://localhost:8080/",
          "height": 68
        },
        "outputId": "83d1f30f-f8d2-4342-cacc-90c0d1a7dcd2"
      },
      "source": [
        "print(x2)"
      ],
      "execution_count": 36,
      "outputs": [
        {
          "output_type": "stream",
          "text": [
            "[[12  5  2  4]\n",
            " [ 7  6  8  8]\n",
            " [ 1  6  7  7]]\n"
          ],
          "name": "stdout"
        }
      ]
    },
    {
      "cell_type": "markdown",
      "metadata": {
        "id": "Mi8neyK8azNP",
        "colab_type": "text"
      },
      "source": [
        "extraer un subarray de $2 \\times 2$ de éste:"
      ]
    },
    {
      "cell_type": "code",
      "metadata": {
        "id": "1oVKIbLQazNR",
        "colab_type": "code",
        "colab": {
          "base_uri": "https://localhost:8080/",
          "height": 51
        },
        "outputId": "29d3bf68-3bce-4a96-8948-6958c0f86027"
      },
      "source": [
        "x2_sub = x2[:2, :2]\n",
        "print(x2_sub)"
      ],
      "execution_count": 37,
      "outputs": [
        {
          "output_type": "stream",
          "text": [
            "[[12  5]\n",
            " [ 7  6]]\n"
          ],
          "name": "stdout"
        }
      ]
    },
    {
      "cell_type": "markdown",
      "metadata": {
        "id": "6_dbCNOAazNW",
        "colab_type": "text"
      },
      "source": [
        "Ahora si modificamos este subarray, el array original también cambia! Miren:"
      ]
    },
    {
      "cell_type": "code",
      "metadata": {
        "id": "3fmRYggsazNY",
        "colab_type": "code",
        "colab": {
          "base_uri": "https://localhost:8080/",
          "height": 51
        },
        "outputId": "fe66377c-dda1-47d2-d8d1-9c7e6b069bd6"
      },
      "source": [
        "x2_sub[0, 0] = 99\n",
        "print(x2_sub)"
      ],
      "execution_count": 38,
      "outputs": [
        {
          "output_type": "stream",
          "text": [
            "[[99  5]\n",
            " [ 7  6]]\n"
          ],
          "name": "stdout"
        }
      ]
    },
    {
      "cell_type": "code",
      "metadata": {
        "id": "bKpq37lsazNh",
        "colab_type": "code",
        "colab": {
          "base_uri": "https://localhost:8080/",
          "height": 68
        },
        "outputId": "59e8d4f6-4b2e-4d59-e90f-964c24db7780"
      },
      "source": [
        "print(x2)"
      ],
      "execution_count": 39,
      "outputs": [
        {
          "output_type": "stream",
          "text": [
            "[[99  5  2  4]\n",
            " [ 7  6  8  8]\n",
            " [ 1  6  7  7]]\n"
          ],
          "name": "stdout"
        }
      ]
    },
    {
      "cell_type": "markdown",
      "metadata": {
        "id": "fKyfHiugazNq",
        "colab_type": "text"
      },
      "source": [
        "- Este comportamiento es de utilidad pues se pueden acceder y procesar partes de los arrays sin tener que hacer copias de ellos"
      ]
    },
    {
      "cell_type": "markdown",
      "metadata": {
        "id": "yQ5NZJcGazNt",
        "colab_type": "text"
      },
      "source": [
        "### Creando copias de arrays\n",
        "\n",
        "- En ocasiones será práctico crear copias explícitas de los datos\n",
        "- Esto se hace con el método ``copy()``:"
      ]
    },
    {
      "cell_type": "code",
      "metadata": {
        "id": "8MWoy9DrazNu",
        "colab_type": "code",
        "colab": {
          "base_uri": "https://localhost:8080/",
          "height": 51
        },
        "outputId": "bd521973-b70e-4028-cc91-de4ea16ba1fa"
      },
      "source": [
        "x2_sub_copy = x2[:2, :2].copy()\n",
        "print(x2_sub_copy)"
      ],
      "execution_count": 40,
      "outputs": [
        {
          "output_type": "stream",
          "text": [
            "[[99  5]\n",
            " [ 7  6]]\n"
          ],
          "name": "stdout"
        }
      ]
    },
    {
      "cell_type": "markdown",
      "metadata": {
        "id": "VNtZoc_wazNw",
        "colab_type": "text"
      },
      "source": [
        "Si ahora modificamos este subarray, el original no cambia:"
      ]
    },
    {
      "cell_type": "code",
      "metadata": {
        "id": "KSQPSpX2azNx",
        "colab_type": "code",
        "colab": {
          "base_uri": "https://localhost:8080/",
          "height": 51
        },
        "outputId": "ecf90ba8-0299-4222-98ba-d9b3728792da"
      },
      "source": [
        "x2_sub_copy[0, 0] = 42\n",
        "print(x2_sub_copy)"
      ],
      "execution_count": 41,
      "outputs": [
        {
          "output_type": "stream",
          "text": [
            "[[42  5]\n",
            " [ 7  6]]\n"
          ],
          "name": "stdout"
        }
      ]
    },
    {
      "cell_type": "code",
      "metadata": {
        "id": "J086vVNyazN1",
        "colab_type": "code",
        "colab": {
          "base_uri": "https://localhost:8080/",
          "height": 68
        },
        "outputId": "80108378-3c48-4013-c980-960020cfbcfa"
      },
      "source": [
        "print(x2)"
      ],
      "execution_count": 42,
      "outputs": [
        {
          "output_type": "stream",
          "text": [
            "[[99  5  2  4]\n",
            " [ 7  6  8  8]\n",
            " [ 1  6  7  7]]\n"
          ],
          "name": "stdout"
        }
      ]
    },
    {
      "cell_type": "markdown",
      "metadata": {
        "id": "QXpoNlQHazN4",
        "colab_type": "text"
      },
      "source": [
        "## Reformado (reshaping) de Arrays\n",
        "\n",
        "- Podemos cambiar la forma (reformar) de un array usando el método ``reshape``\n",
        "Por ejemplo, si queremos los número del 1 al 9 en un array de $3 \\times 3$, podemos hacer lo siguiente:"
      ]
    },
    {
      "cell_type": "code",
      "metadata": {
        "id": "aC6EEhYRazN5",
        "colab_type": "code",
        "colab": {
          "base_uri": "https://localhost:8080/",
          "height": 68
        },
        "outputId": "b268bf24-ec6d-4286-d59f-952e3a54c264"
      },
      "source": [
        "grid = np.arange(1, 10).reshape((3, 3))\n",
        "print(grid)"
      ],
      "execution_count": 43,
      "outputs": [
        {
          "output_type": "stream",
          "text": [
            "[[1 2 3]\n",
            " [4 5 6]\n",
            " [7 8 9]]\n"
          ],
          "name": "stdout"
        }
      ]
    },
    {
      "cell_type": "code",
      "metadata": {
        "id": "kvhlioisazN-",
        "colab_type": "code",
        "colab": {
          "base_uri": "https://localhost:8080/",
          "height": 34
        },
        "outputId": "f0f2ea6c-9469-4eea-b1b0-4c82f4c0cc0d"
      },
      "source": [
        "x = np.array([1, 2, 3])\n",
        "\n",
        "# row vector via reshape\n",
        "x.reshape((1, 3))"
      ],
      "execution_count": 44,
      "outputs": [
        {
          "output_type": "execute_result",
          "data": {
            "text/plain": [
              "array([[1, 2, 3]])"
            ]
          },
          "metadata": {
            "tags": []
          },
          "execution_count": 44
        }
      ]
    },
    {
      "cell_type": "code",
      "metadata": {
        "id": "o72E5Y-DazOC",
        "colab_type": "code",
        "colab": {
          "base_uri": "https://localhost:8080/",
          "height": 34
        },
        "outputId": "986976e8-0b18-4a68-bec4-523cc0cc4ded"
      },
      "source": [
        "# row vector via newaxis\n",
        "x[np.newaxis, :]"
      ],
      "execution_count": 45,
      "outputs": [
        {
          "output_type": "execute_result",
          "data": {
            "text/plain": [
              "array([[1, 2, 3]])"
            ]
          },
          "metadata": {
            "tags": []
          },
          "execution_count": 45
        }
      ]
    },
    {
      "cell_type": "code",
      "metadata": {
        "id": "a3PVFn8-azOQ",
        "colab_type": "code",
        "colab": {
          "base_uri": "https://localhost:8080/",
          "height": 68
        },
        "outputId": "a2de6ee5-2659-4608-c92a-3b88d6a1f9e2"
      },
      "source": [
        "# column vector via reshape\n",
        "x.reshape((3, 1))"
      ],
      "execution_count": 46,
      "outputs": [
        {
          "output_type": "execute_result",
          "data": {
            "text/plain": [
              "array([[1],\n",
              "       [2],\n",
              "       [3]])"
            ]
          },
          "metadata": {
            "tags": []
          },
          "execution_count": 46
        }
      ]
    },
    {
      "cell_type": "code",
      "metadata": {
        "id": "HtnX6uZpazOZ",
        "colab_type": "code",
        "colab": {
          "base_uri": "https://localhost:8080/",
          "height": 68
        },
        "outputId": "0cc8907e-0fad-4288-eb4c-8b741adb7746"
      },
      "source": [
        "# column vector via newaxis\n",
        "x[:, np.newaxis]"
      ],
      "execution_count": 47,
      "outputs": [
        {
          "output_type": "execute_result",
          "data": {
            "text/plain": [
              "array([[1],\n",
              "       [2],\n",
              "       [3]])"
            ]
          },
          "metadata": {
            "tags": []
          },
          "execution_count": 47
        }
      ]
    },
    {
      "cell_type": "markdown",
      "metadata": {
        "id": "Xl--KJDsazOd",
        "colab_type": "text"
      },
      "source": [
        "##  Concatenación y Separación de Arrays\n",
        "\n",
        "- Es posible  combinar multiples arrays en uno\n",
        "- Es posible separar un array a multiples arrays"
      ]
    },
    {
      "cell_type": "markdown",
      "metadata": {
        "id": "hy-Lib3sazOe",
        "colab_type": "text"
      },
      "source": [
        "### Concatenación de arrays\n",
        "\n",
        "Concatenacion, o unión de dos arrays en NumPy, se puede hacer con ``np.concatenate``, ``np.vstack``, y ``np.hstack``.\n",
        "``np.concatenate`` toma una tupla o lista de arrays como primer argumento:"
      ]
    },
    {
      "cell_type": "code",
      "metadata": {
        "id": "DxCXINuzazOh",
        "colab_type": "code",
        "colab": {
          "base_uri": "https://localhost:8080/",
          "height": 34
        },
        "outputId": "8ce4bcbd-eb3f-474d-ed26-21c143263d42"
      },
      "source": [
        "x = np.array([1, 2, 3])\n",
        "y = np.array([3, 2, 1])\n",
        "np.concatenate([x, y])"
      ],
      "execution_count": 48,
      "outputs": [
        {
          "output_type": "execute_result",
          "data": {
            "text/plain": [
              "array([1, 2, 3, 3, 2, 1])"
            ]
          },
          "metadata": {
            "tags": []
          },
          "execution_count": 48
        }
      ]
    },
    {
      "cell_type": "code",
      "metadata": {
        "id": "yUWGZDOTazOl",
        "colab_type": "code",
        "colab": {
          "base_uri": "https://localhost:8080/",
          "height": 34
        },
        "outputId": "fd350cd8-ac74-449a-9e4b-34ac9ad84a4b"
      },
      "source": [
        "z = [99, 99, 99]\n",
        "print(np.concatenate([x, y, z]))"
      ],
      "execution_count": 49,
      "outputs": [
        {
          "output_type": "stream",
          "text": [
            "[ 1  2  3  3  2  1 99 99 99]\n"
          ],
          "name": "stdout"
        }
      ]
    },
    {
      "cell_type": "code",
      "metadata": {
        "id": "hPZciPcFazOo",
        "colab_type": "code",
        "colab": {}
      },
      "source": [
        "grid = np.array([[1, 2, 3],\n",
        "                 [4, 5, 6]])"
      ],
      "execution_count": 0,
      "outputs": []
    },
    {
      "cell_type": "code",
      "metadata": {
        "id": "Cz9doBkaazOs",
        "colab_type": "code",
        "colab": {
          "base_uri": "https://localhost:8080/",
          "height": 85
        },
        "outputId": "ce7a875d-ec1e-41d9-d6e4-4f02214f52d4"
      },
      "source": [
        "# concatenate along the first axis\n",
        "np.concatenate([grid, grid])"
      ],
      "execution_count": 51,
      "outputs": [
        {
          "output_type": "execute_result",
          "data": {
            "text/plain": [
              "array([[1, 2, 3],\n",
              "       [4, 5, 6],\n",
              "       [1, 2, 3],\n",
              "       [4, 5, 6]])"
            ]
          },
          "metadata": {
            "tags": []
          },
          "execution_count": 51
        }
      ]
    },
    {
      "cell_type": "code",
      "metadata": {
        "id": "te2bqYMiazO0",
        "colab_type": "code",
        "colab": {
          "base_uri": "https://localhost:8080/",
          "height": 51
        },
        "outputId": "298d64d1-2732-4ceb-cf56-bd0b4771d665"
      },
      "source": [
        "# concatenate along the second axis (zero-indexed)\n",
        "np.concatenate([grid, grid], axis=1)"
      ],
      "execution_count": 52,
      "outputs": [
        {
          "output_type": "execute_result",
          "data": {
            "text/plain": [
              "array([[1, 2, 3, 1, 2, 3],\n",
              "       [4, 5, 6, 4, 5, 6]])"
            ]
          },
          "metadata": {
            "tags": []
          },
          "execution_count": 52
        }
      ]
    },
    {
      "cell_type": "code",
      "metadata": {
        "id": "sSdbktqHazO8",
        "colab_type": "code",
        "colab": {
          "base_uri": "https://localhost:8080/",
          "height": 68
        },
        "outputId": "dc16ab4e-e830-4aa0-b826-fefafa787efb"
      },
      "source": [
        "x = np.array([1, 2, 3])\n",
        "grid = np.array([[9, 8, 7],\n",
        "                 [6, 5, 4]])\n",
        "\n",
        "# vertically stack the arrays\n",
        "np.vstack([x, grid])"
      ],
      "execution_count": 53,
      "outputs": [
        {
          "output_type": "execute_result",
          "data": {
            "text/plain": [
              "array([[1, 2, 3],\n",
              "       [9, 8, 7],\n",
              "       [6, 5, 4]])"
            ]
          },
          "metadata": {
            "tags": []
          },
          "execution_count": 53
        }
      ]
    },
    {
      "cell_type": "code",
      "metadata": {
        "id": "gJzHEmYLazO-",
        "colab_type": "code",
        "colab": {
          "base_uri": "https://localhost:8080/",
          "height": 51
        },
        "outputId": "ab5e83e0-9198-44c9-90e2-daf7376ad210"
      },
      "source": [
        "# horizontally stack the arrays\n",
        "y = np.array([[99],\n",
        "              [99]])\n",
        "np.hstack([grid, y])"
      ],
      "execution_count": 54,
      "outputs": [
        {
          "output_type": "execute_result",
          "data": {
            "text/plain": [
              "array([[ 9,  8,  7, 99],\n",
              "       [ 6,  5,  4, 99]])"
            ]
          },
          "metadata": {
            "tags": []
          },
          "execution_count": 54
        }
      ]
    },
    {
      "cell_type": "markdown",
      "metadata": {
        "id": "glLlF6PtazPB",
        "colab_type": "text"
      },
      "source": [
        "### Separación de arrays\n",
        "\n",
        "El opuesto a la concatenación es la sepación, implementada en las funciones ``np.split``, ``np.hsplit``, y ``np.vsplit``.  Para cada una de éstas podemos pasar una lista de índices en donde se quiere hacer la separación:"
      ]
    },
    {
      "cell_type": "code",
      "metadata": {
        "id": "whFa8W0GazPC",
        "colab_type": "code",
        "colab": {
          "base_uri": "https://localhost:8080/",
          "height": 34
        },
        "outputId": "b7e45fdb-e08c-41c6-d279-cbab264a03be"
      },
      "source": [
        "x = [1, 2, 3, 99, 99, 3, 2, 1]\n",
        "x1, x2, x3 = np.split(x, [3, 5])      # [3,5] son los puntos donde se hace la separacion \n",
        "print(x1, x2, x3)"
      ],
      "execution_count": 55,
      "outputs": [
        {
          "output_type": "stream",
          "text": [
            "(array([1, 2, 3]), array([99, 99]), array([3, 2, 1]))\n"
          ],
          "name": "stdout"
        }
      ]
    },
    {
      "cell_type": "markdown",
      "metadata": {
        "id": "qi13ySw-azPI",
        "colab_type": "text"
      },
      "source": [
        "*N* puntos-de-separación, crean *N + 1* subarrays."
      ]
    },
    {
      "cell_type": "code",
      "metadata": {
        "id": "_FFeccFxazPJ",
        "colab_type": "code",
        "colab": {
          "base_uri": "https://localhost:8080/",
          "height": 85
        },
        "outputId": "aa9d80e2-d74e-4ece-f62e-294ee07a9116"
      },
      "source": [
        "grid = np.arange(16).reshape((4, 4))\n",
        "grid"
      ],
      "execution_count": 56,
      "outputs": [
        {
          "output_type": "execute_result",
          "data": {
            "text/plain": [
              "array([[ 0,  1,  2,  3],\n",
              "       [ 4,  5,  6,  7],\n",
              "       [ 8,  9, 10, 11],\n",
              "       [12, 13, 14, 15]])"
            ]
          },
          "metadata": {
            "tags": []
          },
          "execution_count": 56
        }
      ]
    },
    {
      "cell_type": "code",
      "metadata": {
        "id": "2C41Jg_LazPN",
        "colab_type": "code",
        "colab": {
          "base_uri": "https://localhost:8080/",
          "height": 85
        },
        "outputId": "b16a7cef-8e17-4715-d792-ce6bd091e487"
      },
      "source": [
        "upper, lower = np.vsplit(grid, [2])     # renglon donde se hace la separacion\n",
        "print(upper)\n",
        "print(lower)"
      ],
      "execution_count": 57,
      "outputs": [
        {
          "output_type": "stream",
          "text": [
            "[[0 1 2 3]\n",
            " [4 5 6 7]]\n",
            "[[ 8  9 10 11]\n",
            " [12 13 14 15]]\n"
          ],
          "name": "stdout"
        }
      ]
    },
    {
      "cell_type": "code",
      "metadata": {
        "id": "j2_DHXUdazPR",
        "colab_type": "code",
        "colab": {
          "base_uri": "https://localhost:8080/",
          "height": 153
        },
        "outputId": "6ead574f-77b8-443c-b7f4-de9074a10d9c"
      },
      "source": [
        "left, right = np.hsplit(grid, [2])      # columna donde se hace la separacion\n",
        "print(left)\n",
        "print(right)"
      ],
      "execution_count": 58,
      "outputs": [
        {
          "output_type": "stream",
          "text": [
            "[[ 0  1]\n",
            " [ 4  5]\n",
            " [ 8  9]\n",
            " [12 13]]\n",
            "[[ 2  3]\n",
            " [ 6  7]\n",
            " [10 11]\n",
            " [14 15]]\n"
          ],
          "name": "stdout"
        }
      ]
    },
    {
      "cell_type": "markdown",
      "metadata": {
        "id": "gT4gRsMHazPT",
        "colab_type": "text"
      },
      "source": [
        "<!--NAVIGATION-->\n",
        "< [Tipos de Datos en Python](01.01-Understanding-Data-Types.ipynb) | [Contenido](Index.ipynb) | [Cálculos con Arrays 1. Ufuncs](01.03-Computation-on-arrays-ufuncs.ipynb) >\n",
        "\n",
        "<a href=\"https://colab.research.google.com/github/htapia/TallerPythonIntroCienciaDatos/blob/master/notebooks/01.02-The-Basics-Of-NumPy-Arrays.ipynb\"><img align=\"left\" src=\"https://colab.research.google.com/assets/colab-badge.svg\" alt=\"Open in Colab\" title=\"Open and Execute in Google Colaboratory\"></a>\n"
      ]
    }
  ]
}