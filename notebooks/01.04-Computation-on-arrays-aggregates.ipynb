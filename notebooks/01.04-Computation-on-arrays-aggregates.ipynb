{
  "nbformat": 4,
  "nbformat_minor": 0,
  "metadata": {
    "anaconda-cloud": {},
    "kernelspec": {
      "display_name": "Python 2",
      "language": "python",
      "name": "python2"
    },
    "language_info": {
      "codemirror_mode": {
        "name": "ipython",
        "version": 2
      },
      "file_extension": ".py",
      "mimetype": "text/x-python",
      "name": "python",
      "nbconvert_exporter": "python",
      "pygments_lexer": "ipython2",
      "version": "2.7.15"
    },
    "colab": {
      "name": "01.04-Computation-on-arrays-aggregates.ipynb",
      "provenance": [],
      "include_colab_link": true
    }
  },
  "cells": [
    {
      "cell_type": "markdown",
      "metadata": {
        "id": "view-in-github",
        "colab_type": "text"
      },
      "source": [
        "<a href=\"https://colab.research.google.com/github/htapiagroup/introduccion-a-numpy-ManuelD22/blob/master/notebooks/01.04-Computation-on-arrays-aggregates.ipynb\" target=\"_parent\"><img src=\"https://colab.research.google.com/assets/colab-badge.svg\" alt=\"Open In Colab\"/></a>"
      ]
    },
    {
      "cell_type": "markdown",
      "metadata": {
        "id": "IcD_Q8nwpNUu",
        "colab_type": "text"
      },
      "source": [
        "<!--BOOK_INFORMATION-->\n",
        "<img align=\"left\" style=\"padding-right:10px;\" src=\"https://github.com/ManuelD22/TallerPythonIntroCienciaDatos/blob/master/notebooks/figures/header_small.png?raw=1\">\n",
        "\n",
        "*Esta libreta contiene material del Taller de Python que se lleva a cabo como parte del \n",
        "evento [Data Challenge Industrial 4.0](www.lania.mx/dci). El contenido ha sido adaptado \n",
        "por HTM y GED a partir del libro [Python Data Science Handbook](http://shop.oreilly.com/product/0636920034919.do) \n",
        "de Jake VanderPlas y se mantiene la licencia sobre el texto, \n",
        "[CC-BY-NC-ND license](https://creativecommons.org/licenses/by-nc-nd/3.0/us/legalcode), \n",
        "y sobre el codigo [MIT license](https://opensource.org/licenses/MIT).*"
      ]
    },
    {
      "cell_type": "markdown",
      "metadata": {
        "id": "h1G65yiBpNUz",
        "colab_type": "text"
      },
      "source": [
        "<!--NAVIGATION-->\n",
        "< [Cálculos con Arrays 1. Ufuncs](01.03-Computation-on-arrays-ufuncs.ipynb) | [Contenido](Index.ipynb) | [Cálculos con Arrays 2. Broadcasting](01.05-Computation-on-arrays-broadcasting.ipynb) >\n",
        "\n",
        "<a href=\"https://colab.research.google.com/github/htapia/TallerPythonIntroCienciaDatos/blob/master/notebooks/01.04-Computation-on-arrays-aggregates.ipynb\"><img align=\"left\" src=\"https://colab.research.google.com/assets/colab-badge.svg\" alt=\"Open in Colab\" title=\"Open and Execute in Google Colaboratory\"></a>\n"
      ]
    },
    {
      "cell_type": "markdown",
      "metadata": {
        "id": "KLE8aPtEpNU2",
        "colab_type": "text"
      },
      "source": [
        "# Agregaciones: Min, Max, etc."
      ]
    },
    {
      "cell_type": "markdown",
      "metadata": {
        "id": "CJwHRCSkpNU3",
        "colab_type": "text"
      },
      "source": [
        "## Sumando los Valores de un Array"
      ]
    },
    {
      "cell_type": "code",
      "metadata": {
        "id": "N39eJB4OpNU5",
        "colab_type": "code",
        "colab": {}
      },
      "source": [
        "import numpy as np"
      ],
      "execution_count": 0,
      "outputs": []
    },
    {
      "cell_type": "code",
      "metadata": {
        "id": "dhbypUMTpNU-",
        "colab_type": "code",
        "colab": {
          "base_uri": "https://localhost:8080/",
          "height": 34
        },
        "outputId": "a2f38ab0-2e99-4f64-854d-03978bf9de4a"
      },
      "source": [
        "L = np.random.random(100)\n",
        "sum(L)"
      ],
      "execution_count": 2,
      "outputs": [
        {
          "output_type": "execute_result",
          "data": {
            "text/plain": [
              "46.28170469997371"
            ]
          },
          "metadata": {
            "tags": []
          },
          "execution_count": 2
        }
      ]
    },
    {
      "cell_type": "code",
      "metadata": {
        "id": "eHnn8w3MpNVF",
        "colab_type": "code",
        "colab": {
          "base_uri": "https://localhost:8080/",
          "height": 34
        },
        "outputId": "f89bfcce-6109-4786-feac-b37da43fd346"
      },
      "source": [
        "np.sum(L)"
      ],
      "execution_count": 3,
      "outputs": [
        {
          "output_type": "execute_result",
          "data": {
            "text/plain": [
              "46.281704699973695"
            ]
          },
          "metadata": {
            "tags": []
          },
          "execution_count": 3
        }
      ]
    },
    {
      "cell_type": "code",
      "metadata": {
        "id": "hoyZa6svpNVK",
        "colab_type": "code",
        "colab": {
          "base_uri": "https://localhost:8080/",
          "height": 51
        },
        "outputId": "fb908f82-ec32-448a-e69a-5eaab901393a"
      },
      "source": [
        "big_array = np.random.rand(1000000)\n",
        "%timeit sum(big_array)\n",
        "%timeit np.sum(big_array)"
      ],
      "execution_count": 4,
      "outputs": [
        {
          "output_type": "stream",
          "text": [
            "10 loops, best of 3: 87.3 ms per loop\n",
            "1000 loops, best of 3: 442 µs per loop\n"
          ],
          "name": "stdout"
        }
      ]
    },
    {
      "cell_type": "markdown",
      "metadata": {
        "id": "vsVxWgdJpNVY",
        "colab_type": "text"
      },
      "source": [
        "## Minimo y Maximo\n"
      ]
    },
    {
      "cell_type": "code",
      "metadata": {
        "id": "XVVw3UG6pNVa",
        "colab_type": "code",
        "colab": {
          "base_uri": "https://localhost:8080/",
          "height": 34
        },
        "outputId": "c1b790aa-8338-43b8-b334-ab973061320b"
      },
      "source": [
        "min(big_array), max(big_array)"
      ],
      "execution_count": 5,
      "outputs": [
        {
          "output_type": "execute_result",
          "data": {
            "text/plain": [
              "(6.110544670256957e-08, 0.9999999844876973)"
            ]
          },
          "metadata": {
            "tags": []
          },
          "execution_count": 5
        }
      ]
    },
    {
      "cell_type": "code",
      "metadata": {
        "id": "B47gchoipNVh",
        "colab_type": "code",
        "colab": {
          "base_uri": "https://localhost:8080/",
          "height": 34
        },
        "outputId": "937f874f-68c7-41d2-cdd7-57bdb53fc141"
      },
      "source": [
        "np.min(big_array), np.max(big_array)"
      ],
      "execution_count": 6,
      "outputs": [
        {
          "output_type": "execute_result",
          "data": {
            "text/plain": [
              "(6.110544670256957e-08, 0.9999999844876973)"
            ]
          },
          "metadata": {
            "tags": []
          },
          "execution_count": 6
        }
      ]
    },
    {
      "cell_type": "code",
      "metadata": {
        "id": "FtwrcbfBpNV1",
        "colab_type": "code",
        "colab": {
          "base_uri": "https://localhost:8080/",
          "height": 51
        },
        "outputId": "9c9fd37e-cfb8-4fb2-8720-a1a1e7649cd7"
      },
      "source": [
        "%timeit min(big_array)\n",
        "%timeit np.min(big_array)"
      ],
      "execution_count": 7,
      "outputs": [
        {
          "output_type": "stream",
          "text": [
            "10 loops, best of 3: 61.5 ms per loop\n",
            "1000 loops, best of 3: 355 µs per loop\n"
          ],
          "name": "stdout"
        }
      ]
    },
    {
      "cell_type": "code",
      "metadata": {
        "id": "9IaM7gTLqcdH",
        "colab_type": "code",
        "colab": {
          "base_uri": "https://localhost:8080/",
          "height": 51
        },
        "outputId": "c088fb46-d146-49c0-d348-93a07de10b7d"
      },
      "source": [
        "%timeit max(big_array)\n",
        "%timeit np.max(big_array)"
      ],
      "execution_count": 8,
      "outputs": [
        {
          "output_type": "stream",
          "text": [
            "10 loops, best of 3: 60.2 ms per loop\n",
            "1000 loops, best of 3: 349 µs per loop\n"
          ],
          "name": "stdout"
        }
      ]
    },
    {
      "cell_type": "code",
      "metadata": {
        "id": "QidAeBDkpNV5",
        "colab_type": "code",
        "colab": {
          "base_uri": "https://localhost:8080/",
          "height": 34
        },
        "outputId": "ecf8523d-d428-4972-84fb-11906d0791e2"
      },
      "source": [
        "print(big_array.min(), big_array.max(), big_array.sum())"
      ],
      "execution_count": 9,
      "outputs": [
        {
          "output_type": "stream",
          "text": [
            "(6.110544670256957e-08, 0.9999999844876973, 500101.4616121549)\n"
          ],
          "name": "stdout"
        }
      ]
    },
    {
      "cell_type": "markdown",
      "metadata": {
        "id": "Jfh_TxalpNV9",
        "colab_type": "text"
      },
      "source": [
        "### Agregaciones multi dimensionales\n",
        "\n"
      ]
    },
    {
      "cell_type": "code",
      "metadata": {
        "id": "9kI9_iVwpNV-",
        "colab_type": "code",
        "colab": {
          "base_uri": "https://localhost:8080/",
          "height": 68
        },
        "outputId": "c17b4566-b96a-49b1-8ac0-ba035c8e37ea"
      },
      "source": [
        "M = np.random.random((3, 4))\n",
        "print(M)"
      ],
      "execution_count": 10,
      "outputs": [
        {
          "output_type": "stream",
          "text": [
            "[[0.82636811 0.23013465 0.70973521 0.86319275]\n",
            " [0.71034762 0.24632771 0.14212873 0.0462678 ]\n",
            " [0.41415328 0.22663935 0.02703507 0.60451372]]\n"
          ],
          "name": "stdout"
        }
      ]
    },
    {
      "cell_type": "code",
      "metadata": {
        "id": "3yjnNFxGpNWC",
        "colab_type": "code",
        "colab": {
          "base_uri": "https://localhost:8080/",
          "height": 34
        },
        "outputId": "41b2565d-c267-4716-9d67-d78d4c90ca50"
      },
      "source": [
        "M.sum()"
      ],
      "execution_count": 11,
      "outputs": [
        {
          "output_type": "execute_result",
          "data": {
            "text/plain": [
              "5.046844005081718"
            ]
          },
          "metadata": {
            "tags": []
          },
          "execution_count": 11
        }
      ]
    },
    {
      "cell_type": "code",
      "metadata": {
        "id": "hDoRkBY-pNWG",
        "colab_type": "code",
        "colab": {
          "base_uri": "https://localhost:8080/",
          "height": 34
        },
        "outputId": "8250d340-cfa9-42c6-9002-8fd8b246e4b3"
      },
      "source": [
        "M.min(axis=0)     # minimo de cada columna"
      ],
      "execution_count": 12,
      "outputs": [
        {
          "output_type": "execute_result",
          "data": {
            "text/plain": [
              "array([0.41415328, 0.22663935, 0.02703507, 0.0462678 ])"
            ]
          },
          "metadata": {
            "tags": []
          },
          "execution_count": 12
        }
      ]
    },
    {
      "cell_type": "code",
      "metadata": {
        "id": "MRs6UzRfpNWL",
        "colab_type": "code",
        "colab": {
          "base_uri": "https://localhost:8080/",
          "height": 34
        },
        "outputId": "e2c4db0f-4b19-4cde-f5d3-8f08c877e251"
      },
      "source": [
        "M.max(axis=1)     # maximo de cada renglon"
      ],
      "execution_count": 14,
      "outputs": [
        {
          "output_type": "execute_result",
          "data": {
            "text/plain": [
              "array([0.86319275, 0.71034762, 0.60451372])"
            ]
          },
          "metadata": {
            "tags": []
          },
          "execution_count": 14
        }
      ]
    },
    {
      "cell_type": "markdown",
      "metadata": {
        "id": "mGVSzzaHpNWP",
        "colab_type": "text"
      },
      "source": [
        "### Otras funciones de agregación\n",
        "\n",
        "The following table provides a list of useful aggregation functions available in NumPy:\n",
        "\n",
        "|Function Name      |   NaN-safe Version  | Description                                   |\n",
        "|-------------------|---------------------|-----------------------------------------------|\n",
        "| ``np.sum``        | ``np.nansum``       | Compute sum of elements                       |\n",
        "| ``np.prod``       | ``np.nanprod``      | Compute product of elements                   |\n",
        "| ``np.mean``       | ``np.nanmean``      | Compute mean of elements                      |\n",
        "| ``np.std``        | ``np.nanstd``       | Compute standard deviation                    |\n",
        "| ``np.var``        | ``np.nanvar``       | Compute variance                              |\n",
        "| ``np.min``        | ``np.nanmin``       | Find minimum value                            |\n",
        "| ``np.max``        | ``np.nanmax``       | Find maximum value                            |\n",
        "| ``np.argmin``     | ``np.nanargmin``    | Find index of minimum value                   |\n",
        "| ``np.argmax``     | ``np.nanargmax``    | Find index of maximum value                   |\n",
        "| ``np.median``     | ``np.nanmedian``    | Compute median of elements                    |\n",
        "| ``np.percentile`` | ``np.nanpercentile``| Compute rank-based statistics of elements     |\n",
        "| ``np.any``        | N/A                 | Evaluate whether any elements are true        |\n",
        "| ``np.all``        | N/A                 | Evaluate whether all elements are true        |\n",
        "\n",
        "We will see these aggregates often throughout the rest of the book."
      ]
    },
    {
      "cell_type": "markdown",
      "metadata": {
        "id": "wsf4X9PnpNWQ",
        "colab_type": "text"
      },
      "source": [
        "## Ejemplo: Altura promedio de los presidentes"
      ]
    },
    {
      "cell_type": "code",
      "metadata": {
        "id": "ZKGckkH7pNWR",
        "colab_type": "code",
        "colab": {
          "base_uri": "https://localhost:8080/",
          "height": 34
        },
        "outputId": "fd92dd93-713a-410b-e6cb-bd2aceabf1c1"
      },
      "source": [
        "!head -4 data/president_heights.csv"
      ],
      "execution_count": 15,
      "outputs": [
        {
          "output_type": "stream",
          "text": [
            "head: cannot open 'data/president_heights.csv' for reading: No such file or directory\n"
          ],
          "name": "stdout"
        }
      ]
    },
    {
      "cell_type": "markdown",
      "metadata": {
        "id": "j0_9gQ7AtR7Z",
        "colab_type": "text"
      },
      "source": [
        " Se agrega el url de las alturas ya que no se encontró el archivo"
      ]
    },
    {
      "cell_type": "code",
      "metadata": {
        "id": "PlwuOzStpNWV",
        "colab_type": "code",
        "colab": {
          "base_uri": "https://localhost:8080/",
          "height": 68
        },
        "outputId": "cd4a9c22-7ad3-469c-bd45-c17b65ca43ec"
      },
      "source": [
        "import pandas as pd\n",
        "data = pd.read_csv('https://raw.githubusercontent.com/jakevdp/PythonDataScienceHandbook/master/notebooks/data/president_heights.csv')\n",
        "heights = np.array(data['height(cm)'])\n",
        "print(heights)"
      ],
      "execution_count": 17,
      "outputs": [
        {
          "output_type": "stream",
          "text": [
            "[189 170 189 163 183 171 185 168 173 183 173 173 175 178 183 193 178 173\n",
            " 174 183 183 168 170 178 182 180 183 178 182 188 175 179 183 193 182 183\n",
            " 177 185 188 188 182 185]\n"
          ],
          "name": "stdout"
        }
      ]
    },
    {
      "cell_type": "code",
      "metadata": {
        "id": "9mGofFdupNWZ",
        "colab_type": "code",
        "colab": {
          "base_uri": "https://localhost:8080/",
          "height": 85
        },
        "outputId": "f66417aa-c262-4f2e-a9cc-59aa7b0cbd06"
      },
      "source": [
        "print(\"Mean height:       \", heights.mean())\n",
        "print(\"Standard deviation:\", heights.std())\n",
        "print(\"Minimum height:    \", heights.min())\n",
        "print(\"Maximum height:    \", heights.max())"
      ],
      "execution_count": 18,
      "outputs": [
        {
          "output_type": "stream",
          "text": [
            "('Mean height:       ', 179.73809523809524)\n",
            "('Standard deviation:', 6.931843442745892)\n",
            "('Minimum height:    ', 163)\n",
            "('Maximum height:    ', 193)\n"
          ],
          "name": "stdout"
        }
      ]
    },
    {
      "cell_type": "code",
      "metadata": {
        "id": "PDf9cdVMpNWd",
        "colab_type": "code",
        "colab": {
          "base_uri": "https://localhost:8080/",
          "height": 68
        },
        "outputId": "8f7cdfc9-5049-4266-949d-3be173212f47"
      },
      "source": [
        "print(\"25th percentile:   \", np.percentile(heights, 25))\n",
        "print(\"Median:            \", np.median(heights))\n",
        "print(\"75th percentile:   \", np.percentile(heights, 75))"
      ],
      "execution_count": 19,
      "outputs": [
        {
          "output_type": "stream",
          "text": [
            "('25th percentile:   ', 174.25)\n",
            "('Median:            ', 182.0)\n",
            "('75th percentile:   ', 183.0)\n"
          ],
          "name": "stdout"
        }
      ]
    },
    {
      "cell_type": "code",
      "metadata": {
        "id": "Ogsi1wNcpNWh",
        "colab_type": "code",
        "colab": {}
      },
      "source": [
        "%matplotlib inline\n",
        "import matplotlib.pyplot as plt\n",
        "import seaborn; seaborn.set()  # set plot style"
      ],
      "execution_count": 0,
      "outputs": []
    },
    {
      "cell_type": "code",
      "metadata": {
        "id": "Wur7ZlAbpNWl",
        "colab_type": "code",
        "colab": {
          "base_uri": "https://localhost:8080/",
          "height": 301
        },
        "outputId": "fb023b81-99ea-466f-f13e-422e89808b5e"
      },
      "source": [
        "plt.hist(heights)\n",
        "plt.title('Height Distribution of US Presidents')\n",
        "plt.xlabel('height (cm)')\n",
        "plt.ylabel('number');"
      ],
      "execution_count": 21,
      "outputs": [
        {
          "output_type": "display_data",
          "data": {
            "image/png": "[encoded data removed]",
            "text/plain": [
              "<Figure size 432x288 with 1 Axes>"
            ]
          },
          "metadata": {
            "tags": []
          }
        }
      ]
    },
    {
      "cell_type": "markdown",
      "metadata": {
        "id": "nJwYEVNBpNWu",
        "colab_type": "text"
      },
      "source": [
        "<!--NAVIGATION-->\n",
        "< [Cálculos con Arrays 1. Ufuncs](01.03-Computation-on-arrays-ufuncs.ipynb) | [Contenido](Index.ipynb) | [Cálculos con Arrays 2. Broadcasting](01.05-Computation-on-arrays-broadcasting.ipynb) >\n",
        "\n",
        "<a href=\"https://colab.research.google.com/github/htapia/TallerPythonIntroCienciaDatos/blob/master/notebooks/01.04-Computation-on-arrays-aggregates.ipynb\"><img align=\"left\" src=\"https://colab.research.google.com/assets/colab-badge.svg\" alt=\"Open in Colab\" title=\"Open and Execute in Google Colaboratory\"></a>\n"
      ]
    }
  ]
}